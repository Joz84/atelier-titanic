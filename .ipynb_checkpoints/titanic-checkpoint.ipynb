{
 "cells": [
  {
   "cell_type": "markdown",
   "id": "stylish-philip",
   "metadata": {},
   "source": [
    "# Atelier Titanic"
   ]
  },
  {
   "cell_type": "markdown",
   "id": "random-teaching",
   "metadata": {},
   "source": [
    "## Recupération des bibliothèques et du Jeu de données"
   ]
  },
  {
   "cell_type": "markdown",
   "id": "growing-canvas",
   "metadata": {},
   "source": [
    "### Recupération des bibliothèques"
   ]
  },
  {
   "cell_type": "code",
   "execution_count": null,
   "id": "christian-sapphire",
   "metadata": {},
   "outputs": [],
   "source": [
    "import seaborn as sns\n",
    "import pandas as pd\n",
    "from sklearn.preprocessing import StandardScaler\n",
    "from sklearn.model_selection import train_test_split\n",
    "from tensorflow.keras import Sequential, layers"
   ]
  },
  {
   "cell_type": "markdown",
   "id": "related-crazy",
   "metadata": {},
   "source": [
    "### Recupération  du Jeu de données"
   ]
  },
  {
   "cell_type": "code",
   "execution_count": null,
   "id": "stopped-lightweight",
   "metadata": {},
   "outputs": [],
   "source": [
    "titanic = sns.load_dataset(\"titanic\")"
   ]
  },
  {
   "cell_type": "markdown",
   "id": "included-sacramento",
   "metadata": {},
   "source": [
    "## Netoyage et Foramatage des données"
   ]
  },
  {
   "cell_type": "markdown",
   "id": "endless-thompson",
   "metadata": {},
   "source": [
    "### Sélection des colonnes intéressantes"
   ]
  },
  {
   "cell_type": "markdown",
   "id": "ahead-harris",
   "metadata": {},
   "source": [
    "titanic = titanic.dropna(subset=[\"survived\", \"sex\", \"pclass\", \"age\", \"fare\"])\n",
    "titanic = titanic.reset_index()\n",
    "titanic"
   ]
  },
  {
   "cell_type": "markdown",
   "id": "veterinary-boring",
   "metadata": {},
   "source": [
    "### Convertir une colonne \"texte\" en colonne \"Chiffre\""
   ]
  },
  {
   "cell_type": "code",
   "execution_count": null,
   "id": "disturbed-honey",
   "metadata": {},
   "outputs": [],
   "source": [
    "titanic[\"sex_num\"] = titanic[\"sex\"].map({\"male\": 0, \"female\": 1})"
   ]
  },
  {
   "cell_type": "markdown",
   "id": "present-variable",
   "metadata": {},
   "source": [
    "## Découpage du tableau pour le faire passer dans le modèle"
   ]
  },
  {
   "cell_type": "markdown",
   "id": "municipal-sessions",
   "metadata": {},
   "source": [
    "### Sélection des colonnes à garder pour faire la prédiction"
   ]
  },
  {
   "cell_type": "code",
   "execution_count": null,
   "id": "advisory-implement",
   "metadata": {},
   "outputs": [],
   "source": [
    "X = titanic[[\"sex_num\", \"pclass\", \"age\", \"fare\"]]\n",
    "X"
   ]
  },
  {
   "cell_type": "markdown",
   "id": "favorite-employer",
   "metadata": {},
   "source": [
    "### Quelle serait la ligne qui me correspond"
   ]
  },
  {
   "cell_type": "code",
   "execution_count": null,
   "id": "greenhouse-perspective",
   "metadata": {},
   "outputs": [],
   "source": [
    "my_X = pd.DataFrame({\"sex_num\": [0], \"pclass\": [1],\t\"age\": [39], \"fare\": [50.0]})\n",
    "my_X"
   ]
  },
  {
   "cell_type": "markdown",
   "id": "selected-circulation",
   "metadata": {},
   "source": [
    "### La colonne à prédire"
   ]
  },
  {
   "cell_type": "code",
   "execution_count": null,
   "id": "referenced-candy",
   "metadata": {},
   "outputs": [],
   "source": [
    "y = titanic[\"survived\"]\n",
    "y"
   ]
  },
  {
   "cell_type": "markdown",
   "id": "systematic-ordering",
   "metadata": {},
   "source": [
    "### Ma chance de survie en ne connaissant aucune infos sur moi"
   ]
  },
  {
   "cell_type": "code",
   "execution_count": null,
   "id": "environmental-advertiser",
   "metadata": {},
   "outputs": [],
   "source": [
    "values = pd.Series(y).value_counts()\n",
    "print(values)\n",
    "values.max() / values.sum()"
   ]
  },
  {
   "cell_type": "markdown",
   "id": "thick-complement",
   "metadata": {},
   "source": [
    "### Garder une partie des données pour tester le resultat"
   ]
  },
  {
   "cell_type": "code",
   "execution_count": null,
   "id": "unique-england",
   "metadata": {},
   "outputs": [],
   "source": [
    "X_train, X_test, y_train, y_test = train_test_split(X, y, test_size=0.25, random_state=3)"
   ]
  },
  {
   "cell_type": "markdown",
   "id": "adjusted-worker",
   "metadata": {},
   "source": [
    "### Mettre toutes les données sur un même pied d'égalité (standardisé)"
   ]
  },
  {
   "cell_type": "code",
   "execution_count": null,
   "id": "moved-examination",
   "metadata": {},
   "outputs": [],
   "source": [
    "scaler = StandardScaler()\n",
    "X_train = scaler.fit_transform(X_train)"
   ]
  },
  {
   "cell_type": "markdown",
   "id": "geological-devon",
   "metadata": {},
   "source": [
    "## Création du modèle"
   ]
  },
  {
   "cell_type": "code",
   "execution_count": null,
   "id": "pediatric-hunger",
   "metadata": {},
   "outputs": [],
   "source": [
    "model = Sequential()\n",
    "model.add(layers.Dense(10, activation='relu', input_dim=4)) \n",
    "model.add(layers.Dense(5, activation='relu')) \n",
    "model.add(layers.Dense(1, activation='sigmoid'))\n",
    "model.summary()"
   ]
  },
  {
   "cell_type": "markdown",
   "id": "selected-documentary",
   "metadata": {},
   "source": [
    "## Entrainement du modèle"
   ]
  },
  {
   "cell_type": "code",
   "execution_count": null,
   "id": "mineral-cargo",
   "metadata": {},
   "outputs": [],
   "source": [
    "model.compile(optimizer='adam', loss='binary_crossentropy', metrics = 'accuracy')\n",
    "model.fit(X_train, y_train, batch_size=16, epochs=20)"
   ]
  },
  {
   "cell_type": "markdown",
   "id": "alternate-display",
   "metadata": {},
   "source": [
    "## Evaluer la fiabilité du modèle"
   ]
  },
  {
   "cell_type": "code",
   "execution_count": null,
   "id": "functioning-suffering",
   "metadata": {},
   "outputs": [],
   "source": [
    "model.evaluate(scaler.transform(X_test), y_test)"
   ]
  },
  {
   "cell_type": "markdown",
   "id": "touched-california",
   "metadata": {},
   "source": [
    "## La prédiction est une probabilité"
   ]
  },
  {
   "cell_type": "code",
   "execution_count": null,
   "id": "continental-separation",
   "metadata": {},
   "outputs": [],
   "source": [
    "model.predict(scaler.transform(X_test))"
   ]
  },
  {
   "cell_type": "markdown",
   "id": "lasting-concept",
   "metadata": {},
   "source": [
    "## Est ce que j'aurais survécu?"
   ]
  },
  {
   "cell_type": "code",
   "execution_count": null,
   "id": "atmospheric-trout",
   "metadata": {},
   "outputs": [],
   "source": [
    "model.predict(scaler.transform(my_X))"
   ]
  }
 ],
 "metadata": {
  "kernelspec": {
   "display_name": "Python 3",
   "language": "python",
   "name": "python3"
  },
  "language_info": {
   "codemirror_mode": {
    "name": "ipython",
    "version": 3
   },
   "file_extension": ".py",
   "mimetype": "text/x-python",
   "name": "python",
   "nbconvert_exporter": "python",
   "pygments_lexer": "ipython3",
   "version": "3.8.6"
  },
  "toc": {
   "base_numbering": 1,
   "nav_menu": {},
   "number_sections": true,
   "sideBar": true,
   "skip_h1_title": false,
   "title_cell": "Table of Contents",
   "title_sidebar": "Contents",
   "toc_cell": false,
   "toc_position": {},
   "toc_section_display": true,
   "toc_window_display": false
  }
 },
 "nbformat": 4,
 "nbformat_minor": 5
}
